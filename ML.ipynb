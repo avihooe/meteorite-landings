{
 "cells": [
  {
   "cell_type": "code",
   "execution_count": 1,
   "metadata": {},
   "outputs": [],
   "source": [
    "import pandas as pd\n",
    "from sklearn.model_selection import train_test_split\n",
    "from sklearn.neighbors import KNeighborsClassifier"
   ]
  },
  {
   "cell_type": "code",
   "execution_count": 2,
   "metadata": {},
   "outputs": [],
   "source": [
    "df = pd.read_csv('meteorite-landings.csv',index_col=[0])"
   ]
  },
  {
   "cell_type": "code",
   "execution_count": 3,
   "metadata": {},
   "outputs": [
    {
     "name": "stdout",
     "output_type": "stream",
     "text": [
      "The accuracy is:  0.5496688741721855\n",
      "Some examples of the guessed years, and the correct ones:\n"
     ]
    },
    {
     "data": {
      "text/html": [
       "<div>\n",
       "<style scoped>\n",
       "    .dataframe tbody tr th:only-of-type {\n",
       "        vertical-align: middle;\n",
       "    }\n",
       "\n",
       "    .dataframe tbody tr th {\n",
       "        vertical-align: top;\n",
       "    }\n",
       "\n",
       "    .dataframe thead th {\n",
       "        text-align: right;\n",
       "    }\n",
       "</style>\n",
       "<table border=\"1\" class=\"dataframe\">\n",
       "  <thead>\n",
       "    <tr style=\"text-align: right;\">\n",
       "      <th></th>\n",
       "      <th>pred</th>\n",
       "      <th>y_test</th>\n",
       "    </tr>\n",
       "  </thead>\n",
       "  <tbody>\n",
       "    <tr>\n",
       "      <th>4560</th>\n",
       "      <td>1988-01-01T00:00:00.000</td>\n",
       "      <td>1988-01-01T00:00:00.000</td>\n",
       "    </tr>\n",
       "    <tr>\n",
       "      <th>31377</th>\n",
       "      <td>1991-01-01T00:00:00.000</td>\n",
       "      <td>2002-01-01T00:00:00.000</td>\n",
       "    </tr>\n",
       "    <tr>\n",
       "      <th>37119</th>\n",
       "      <td>2002-01-01T00:00:00.000</td>\n",
       "      <td>2002-01-01T00:00:00.000</td>\n",
       "    </tr>\n",
       "    <tr>\n",
       "      <th>3215</th>\n",
       "      <td>1981-01-01T00:00:00.000</td>\n",
       "      <td>1981-01-01T00:00:00.000</td>\n",
       "    </tr>\n",
       "    <tr>\n",
       "      <th>8055</th>\n",
       "      <td>2001-01-01T00:00:00.000</td>\n",
       "      <td>2001-01-01T00:00:00.000</td>\n",
       "    </tr>\n",
       "    <tr>\n",
       "      <th>...</th>\n",
       "      <td>...</td>\n",
       "      <td>...</td>\n",
       "    </tr>\n",
       "    <tr>\n",
       "      <th>41697</th>\n",
       "      <td>1979-01-01T00:00:00.000</td>\n",
       "      <td>1979-01-01T00:00:00.000</td>\n",
       "    </tr>\n",
       "    <tr>\n",
       "      <th>1327</th>\n",
       "      <td>1990-01-01T00:00:00.000</td>\n",
       "      <td>1991-01-01T00:00:00.000</td>\n",
       "    </tr>\n",
       "    <tr>\n",
       "      <th>23477</th>\n",
       "      <td>2000-01-01T00:00:00.000</td>\n",
       "      <td>2000-01-01T00:00:00.000</td>\n",
       "    </tr>\n",
       "    <tr>\n",
       "      <th>2903</th>\n",
       "      <td>1977-01-01T00:00:00.000</td>\n",
       "      <td>1978-01-01T00:00:00.000</td>\n",
       "    </tr>\n",
       "    <tr>\n",
       "      <th>42029</th>\n",
       "      <td>1979-01-01T00:00:00.000</td>\n",
       "      <td>1979-01-01T00:00:00.000</td>\n",
       "    </tr>\n",
       "  </tbody>\n",
       "</table>\n",
       "<p>3171 rows × 2 columns</p>\n",
       "</div>"
      ],
      "text/plain": [
       "                          pred                   y_test\n",
       "4560   1988-01-01T00:00:00.000  1988-01-01T00:00:00.000\n",
       "31377  1991-01-01T00:00:00.000  2002-01-01T00:00:00.000\n",
       "37119  2002-01-01T00:00:00.000  2002-01-01T00:00:00.000\n",
       "3215   1981-01-01T00:00:00.000  1981-01-01T00:00:00.000\n",
       "8055   2001-01-01T00:00:00.000  2001-01-01T00:00:00.000\n",
       "...                        ...                      ...\n",
       "41697  1979-01-01T00:00:00.000  1979-01-01T00:00:00.000\n",
       "1327   1990-01-01T00:00:00.000  1991-01-01T00:00:00.000\n",
       "23477  2000-01-01T00:00:00.000  2000-01-01T00:00:00.000\n",
       "2903   1977-01-01T00:00:00.000  1978-01-01T00:00:00.000\n",
       "42029  1979-01-01T00:00:00.000  1979-01-01T00:00:00.000\n",
       "\n",
       "[3171 rows x 2 columns]"
      ]
     },
     "execution_count": 3,
     "metadata": {},
     "output_type": "execute_result"
    }
   ],
   "source": [
    "# Removing the rows that have Not Valid \"latitude\" and \"longitude\" values:\n",
    "df = df[(df[\"reclat\"] != 0.0) & (df[\"reclong\"] != 0.0)]\n",
    "\n",
    "#preparing the data\n",
    "X = df[['reclat','reclong']]\n",
    "y = df['year']\n",
    "\n",
    "X_train, X_test, y_train, y_test = train_test_split(X, y, test_size=0.1)\n",
    "\n",
    "\n",
    "reg = KNeighborsClassifier(n_neighbors=5)\n",
    "reg.fit(X_train,y_train)\n",
    "print(\"The accuracy is: \",reg.score(X_test,y_test))\n",
    "pred=reg.predict(X_test)\n",
    "print(\"Some examples of the guessed years, and the correct ones:\")\n",
    "\n",
    "df_pred = pd.DataFrame({'pred': pred,'y_test': y_test})\n",
    "df_pred\n",
    "\n"
   ]
  }
 ],
 "metadata": {
  "kernelspec": {
   "display_name": "Python 3",
   "language": "python",
   "name": "python3"
  },
  "language_info": {
   "codemirror_mode": {
    "name": "ipython",
    "version": 3
   },
   "file_extension": ".py",
   "mimetype": "text/x-python",
   "name": "python",
   "nbconvert_exporter": "python",
   "pygments_lexer": "ipython3",
   "version": "3.8.5"
  }
 },
 "nbformat": 4,
 "nbformat_minor": 4
}

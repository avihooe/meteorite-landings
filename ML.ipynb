{
 "cells": [
  {
   "cell_type": "code",
   "execution_count": 27,
   "metadata": {},
   "outputs": [],
   "source": [
    "import pandas as pd\n",
    "from sklearn.model_selection import train_test_split\n",
    "from sklearn.neighbors import KNeighborsClassifier\n",
    "\n",
    "from sklearn import metrics\n",
    "from sklearn.model_selection import GridSearchCV\n",
    "from sklearn.metrics import make_scorer"
   ]
  },
  {
   "cell_type": "code",
   "execution_count": 25,
   "metadata": {},
   "outputs": [],
   "source": [
    "df = pd.read_csv('meteorite-landings.csv',index_col=[0])"
   ]
  },
  {
   "cell_type": "code",
   "execution_count": 119,
   "metadata": {},
   "outputs": [
    {
     "name": "stdout",
     "output_type": "stream",
     "text": [
      "The accuracy is:  0.5714285714285714\n",
      "Some examples of the guessed years, and the correct ones:\n"
     ]
    },
    {
     "data": {
      "text/html": [
       "<div>\n",
       "<style scoped>\n",
       "    .dataframe tbody tr th:only-of-type {\n",
       "        vertical-align: middle;\n",
       "    }\n",
       "\n",
       "    .dataframe tbody tr th {\n",
       "        vertical-align: top;\n",
       "    }\n",
       "\n",
       "    .dataframe thead th {\n",
       "        text-align: right;\n",
       "    }\n",
       "</style>\n",
       "<table border=\"1\" class=\"dataframe\">\n",
       "  <thead>\n",
       "    <tr style=\"text-align: right;\">\n",
       "      <th></th>\n",
       "      <th>pred</th>\n",
       "      <th>y_test</th>\n",
       "    </tr>\n",
       "  </thead>\n",
       "  <tbody>\n",
       "    <tr>\n",
       "      <th>43051</th>\n",
       "      <td>1979-01-01T00:00:00.000</td>\n",
       "      <td>1986-01-01T00:00:00.000</td>\n",
       "    </tr>\n",
       "    <tr>\n",
       "      <th>17036</th>\n",
       "      <td>2007-01-01T00:00:00.000</td>\n",
       "      <td>2009-01-01T00:00:00.000</td>\n",
       "    </tr>\n",
       "    <tr>\n",
       "      <th>17066</th>\n",
       "      <td>2009-01-01T00:00:00.000</td>\n",
       "      <td>2009-01-01T00:00:00.000</td>\n",
       "    </tr>\n",
       "    <tr>\n",
       "      <th>8111</th>\n",
       "      <td>2000-01-01T00:00:00.000</td>\n",
       "      <td>2000-01-01T00:00:00.000</td>\n",
       "    </tr>\n",
       "    <tr>\n",
       "      <th>2104</th>\n",
       "      <td>1984-01-01T00:00:00.000</td>\n",
       "      <td>1985-01-01T00:00:00.000</td>\n",
       "    </tr>\n",
       "    <tr>\n",
       "      <th>...</th>\n",
       "      <td>...</td>\n",
       "      <td>...</td>\n",
       "    </tr>\n",
       "    <tr>\n",
       "      <th>4789</th>\n",
       "      <td>1988-01-01T00:00:00.000</td>\n",
       "      <td>1988-01-01T00:00:00.000</td>\n",
       "    </tr>\n",
       "    <tr>\n",
       "      <th>33401</th>\n",
       "      <td>1999-01-01T00:00:00.000</td>\n",
       "      <td>1994-01-01T00:00:00.000</td>\n",
       "    </tr>\n",
       "    <tr>\n",
       "      <th>2212</th>\n",
       "      <td>1985-01-01T00:00:00.000</td>\n",
       "      <td>1985-01-01T00:00:00.000</td>\n",
       "    </tr>\n",
       "    <tr>\n",
       "      <th>34680</th>\n",
       "      <td>1999-01-01T00:00:00.000</td>\n",
       "      <td>1999-01-01T00:00:00.000</td>\n",
       "    </tr>\n",
       "    <tr>\n",
       "      <th>37116</th>\n",
       "      <td>2002-01-01T00:00:00.000</td>\n",
       "      <td>2002-01-01T00:00:00.000</td>\n",
       "    </tr>\n",
       "  </tbody>\n",
       "</table>\n",
       "<p>3171 rows × 2 columns</p>\n",
       "</div>"
      ],
      "text/plain": [
       "                          pred                   y_test\n",
       "43051  1979-01-01T00:00:00.000  1986-01-01T00:00:00.000\n",
       "17036  2007-01-01T00:00:00.000  2009-01-01T00:00:00.000\n",
       "17066  2009-01-01T00:00:00.000  2009-01-01T00:00:00.000\n",
       "8111   2000-01-01T00:00:00.000  2000-01-01T00:00:00.000\n",
       "2104   1984-01-01T00:00:00.000  1985-01-01T00:00:00.000\n",
       "...                        ...                      ...\n",
       "4789   1988-01-01T00:00:00.000  1988-01-01T00:00:00.000\n",
       "33401  1999-01-01T00:00:00.000  1994-01-01T00:00:00.000\n",
       "2212   1985-01-01T00:00:00.000  1985-01-01T00:00:00.000\n",
       "34680  1999-01-01T00:00:00.000  1999-01-01T00:00:00.000\n",
       "37116  2002-01-01T00:00:00.000  2002-01-01T00:00:00.000\n",
       "\n",
       "[3171 rows x 2 columns]"
      ]
     },
     "execution_count": 119,
     "metadata": {},
     "output_type": "execute_result"
    }
   ],
   "source": [
    "# Removing the rows that have Not Valid \"latitude\" and \"longitude\" values:\n",
    "df = df[(df[\"reclat\"] != 0.0) & (df[\"reclong\"] != 0.0)]\n",
    "\n",
    "#preparing the data\n",
    "X = df[['reclat','reclong']]\n",
    "y = df['year']\n",
    "\n",
    "X_train, X_test, y_train, y_test = train_test_split(X, y, test_size=0.1)\n",
    "\n",
    "\n",
    "reg = KNeighborsClassifier(n_neighbors=5)\n",
    "reg.fit(X_train,y_train)\n",
    "print(\"The accuracy is: \",reg.score(X_test,y_test))\n",
    "pred=reg.predict(X_test)\n",
    "print(\"Some examples of the guessed years, and the correct ones:\")\n",
    "\n",
    "df_pred = pd.DataFrame({'pred': pred,'y_test': y_test})\n",
    "df_pred\n",
    "\n"
   ]
  }
 ],
 "metadata": {
  "kernelspec": {
   "display_name": "Python 3",
   "language": "python",
   "name": "python3"
  },
  "language_info": {
   "codemirror_mode": {
    "name": "ipython",
    "version": 3
   },
   "file_extension": ".py",
   "mimetype": "text/x-python",
   "name": "python",
   "nbconvert_exporter": "python",
   "pygments_lexer": "ipython3",
   "version": "3.8.5"
  }
 },
 "nbformat": 4,
 "nbformat_minor": 4
}

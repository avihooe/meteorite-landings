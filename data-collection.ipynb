{
 "cells": [
  {
   "cell_type": "code",
   "execution_count": 1,
   "metadata": {},
   "outputs": [],
   "source": [
    "import requests\n",
    "import pandas as pd\n",
    "from sodapy import Socrata"
   ]
  },
  {
   "cell_type": "code",
   "execution_count": 2,
   "metadata": {},
   "outputs": [
    {
     "name": "stderr",
     "output_type": "stream",
     "text": [
      "WARNING:root:Requests made without an app_token will be subject to strict throttling limits.\n"
     ]
    }
   ],
   "source": [
    "# Data acquisition\n",
    "\n",
    "client = Socrata(\"data.nasa.gov\", None)\n",
    "results = client.get(\"gh4g-9sfh\", limit=50000)\n",
    "\n",
    "# Convert to pandas DataFrame\n",
    "results_df = pd.DataFrame.from_records(results)\n",
    "\n",
    "\n",
    "\n"
   ]
  },
  {
   "cell_type": "code",
   "execution_count": 3,
   "metadata": {},
   "outputs": [
    {
     "name": "stdout",
     "output_type": "stream",
     "text": [
      "<class 'pandas.core.frame.DataFrame'>\n",
      "RangeIndex: 45716 entries, 0 to 45715\n",
      "Data columns (total 12 columns):\n",
      " #   Column                       Non-Null Count  Dtype \n",
      "---  ------                       --------------  ----- \n",
      " 0   name                         45716 non-null  object\n",
      " 1   id                           45716 non-null  object\n",
      " 2   nametype                     45716 non-null  object\n",
      " 3   recclass                     45716 non-null  object\n",
      " 4   mass                         45585 non-null  object\n",
      " 5   fall                         45716 non-null  object\n",
      " 6   year                         45425 non-null  object\n",
      " 7   reclat                       38401 non-null  object\n",
      " 8   reclong                      38401 non-null  object\n",
      " 9   geolocation                  38401 non-null  object\n",
      " 10  :@computed_region_cbhk_fwbd  1659 non-null   object\n",
      " 11  :@computed_region_nnqa_25f4  1659 non-null   object\n",
      "dtypes: object(12)\n",
      "memory usage: 4.2+ MB\n"
     ]
    }
   ],
   "source": [
    "results_df.info()"
   ]
  },
  {
   "cell_type": "code",
   "execution_count": 4,
   "metadata": {},
   "outputs": [],
   "source": [
    "# Data Cleaning\n",
    "\n",
    "results_df.drop(labels=['geolocation',':@computed_region_cbhk_fwbd',':@computed_region_nnqa_25f4'],axis=1,inplace=True)\n",
    "results_df.dropna(inplace=True)"
   ]
  },
  {
   "cell_type": "code",
   "execution_count": 5,
   "metadata": {},
   "outputs": [],
   "source": [
    "results_df[\"geolocation\"] = list(zip(results_df.reclat, results_df.reclong))"
   ]
  },
  {
   "cell_type": "code",
   "execution_count": 6,
   "metadata": {},
   "outputs": [
    {
     "name": "stdout",
     "output_type": "stream",
     "text": [
      "<class 'pandas.core.frame.DataFrame'>\n",
      "Int64Index: 38115 entries, 0 to 45715\n",
      "Data columns (total 10 columns):\n",
      " #   Column       Non-Null Count  Dtype \n",
      "---  ------       --------------  ----- \n",
      " 0   name         38115 non-null  object\n",
      " 1   id           38115 non-null  object\n",
      " 2   nametype     38115 non-null  object\n",
      " 3   recclass     38115 non-null  object\n",
      " 4   mass         38115 non-null  object\n",
      " 5   fall         38115 non-null  object\n",
      " 6   year         38115 non-null  object\n",
      " 7   reclat       38115 non-null  object\n",
      " 8   reclong      38115 non-null  object\n",
      " 9   geolocation  38115 non-null  object\n",
      "dtypes: object(10)\n",
      "memory usage: 3.2+ MB\n"
     ]
    }
   ],
   "source": [
    "results_df.info()"
   ]
  },
  {
   "cell_type": "code",
   "execution_count": 7,
   "metadata": {},
   "outputs": [
    {
     "data": {
      "text/html": [
       "<div>\n",
       "<style scoped>\n",
       "    .dataframe tbody tr th:only-of-type {\n",
       "        vertical-align: middle;\n",
       "    }\n",
       "\n",
       "    .dataframe tbody tr th {\n",
       "        vertical-align: top;\n",
       "    }\n",
       "\n",
       "    .dataframe thead th {\n",
       "        text-align: right;\n",
       "    }\n",
       "</style>\n",
       "<table border=\"1\" class=\"dataframe\">\n",
       "  <thead>\n",
       "    <tr style=\"text-align: right;\">\n",
       "      <th></th>\n",
       "      <th>name</th>\n",
       "      <th>id</th>\n",
       "      <th>nametype</th>\n",
       "      <th>recclass</th>\n",
       "      <th>mass</th>\n",
       "      <th>fall</th>\n",
       "      <th>year</th>\n",
       "      <th>reclat</th>\n",
       "      <th>reclong</th>\n",
       "      <th>geolocation</th>\n",
       "    </tr>\n",
       "  </thead>\n",
       "  <tbody>\n",
       "    <tr>\n",
       "      <th>0</th>\n",
       "      <td>Aachen</td>\n",
       "      <td>1</td>\n",
       "      <td>Valid</td>\n",
       "      <td>L5</td>\n",
       "      <td>21</td>\n",
       "      <td>Fell</td>\n",
       "      <td>1880-01-01T00:00:00.000</td>\n",
       "      <td>50.775000</td>\n",
       "      <td>6.083330</td>\n",
       "      <td>(50.775000, 6.083330)</td>\n",
       "    </tr>\n",
       "    <tr>\n",
       "      <th>1</th>\n",
       "      <td>Aarhus</td>\n",
       "      <td>2</td>\n",
       "      <td>Valid</td>\n",
       "      <td>H6</td>\n",
       "      <td>720</td>\n",
       "      <td>Fell</td>\n",
       "      <td>1951-01-01T00:00:00.000</td>\n",
       "      <td>56.183330</td>\n",
       "      <td>10.233330</td>\n",
       "      <td>(56.183330, 10.233330)</td>\n",
       "    </tr>\n",
       "    <tr>\n",
       "      <th>2</th>\n",
       "      <td>Abee</td>\n",
       "      <td>6</td>\n",
       "      <td>Valid</td>\n",
       "      <td>EH4</td>\n",
       "      <td>107000</td>\n",
       "      <td>Fell</td>\n",
       "      <td>1952-01-01T00:00:00.000</td>\n",
       "      <td>54.216670</td>\n",
       "      <td>-113.000000</td>\n",
       "      <td>(54.216670, -113.000000)</td>\n",
       "    </tr>\n",
       "    <tr>\n",
       "      <th>3</th>\n",
       "      <td>Acapulco</td>\n",
       "      <td>10</td>\n",
       "      <td>Valid</td>\n",
       "      <td>Acapulcoite</td>\n",
       "      <td>1914</td>\n",
       "      <td>Fell</td>\n",
       "      <td>1976-01-01T00:00:00.000</td>\n",
       "      <td>16.883330</td>\n",
       "      <td>-99.900000</td>\n",
       "      <td>(16.883330, -99.900000)</td>\n",
       "    </tr>\n",
       "    <tr>\n",
       "      <th>4</th>\n",
       "      <td>Achiras</td>\n",
       "      <td>370</td>\n",
       "      <td>Valid</td>\n",
       "      <td>L6</td>\n",
       "      <td>780</td>\n",
       "      <td>Fell</td>\n",
       "      <td>1902-01-01T00:00:00.000</td>\n",
       "      <td>-33.166670</td>\n",
       "      <td>-64.950000</td>\n",
       "      <td>(-33.166670, -64.950000)</td>\n",
       "    </tr>\n",
       "  </tbody>\n",
       "</table>\n",
       "</div>"
      ],
      "text/plain": [
       "       name   id nametype     recclass    mass  fall                     year  \\\n",
       "0    Aachen    1    Valid           L5      21  Fell  1880-01-01T00:00:00.000   \n",
       "1    Aarhus    2    Valid           H6     720  Fell  1951-01-01T00:00:00.000   \n",
       "2      Abee    6    Valid          EH4  107000  Fell  1952-01-01T00:00:00.000   \n",
       "3  Acapulco   10    Valid  Acapulcoite    1914  Fell  1976-01-01T00:00:00.000   \n",
       "4   Achiras  370    Valid           L6     780  Fell  1902-01-01T00:00:00.000   \n",
       "\n",
       "       reclat      reclong               geolocation  \n",
       "0   50.775000     6.083330     (50.775000, 6.083330)  \n",
       "1   56.183330    10.233330    (56.183330, 10.233330)  \n",
       "2   54.216670  -113.000000  (54.216670, -113.000000)  \n",
       "3   16.883330   -99.900000   (16.883330, -99.900000)  \n",
       "4  -33.166670   -64.950000  (-33.166670, -64.950000)  "
      ]
     },
     "execution_count": 7,
     "metadata": {},
     "output_type": "execute_result"
    }
   ],
   "source": [
    "results_df.head()"
   ]
  },
  {
   "cell_type": "markdown",
   "metadata": {},
   "source": [
    "name: the name of the meteorite (sometimes just its location, modified with numeric data or composition)<br>\n",
    "id: a unique identifier of each meteorite<br>\n",
    "nametype: one of:\n",
    "<ul>\n",
    "  <li>valid: a typical meteorite</li>\n",
    "  <li>relict: a meteorite that has been highly degraded by weather on Earth</li>\n",
    "</ul>\n",
    "recclass: the class of the meteorite<br>\n",
    "mass: the mass of the meteorite, in grams<br>\n",
    "fall: one of:\n",
    "<ul>\n",
    "  <li>Fell: the meteorite's fall was observed</li>\n",
    "  <li>Found: the meteorite's fall was not observed</li>\n",
    "</ul>\n",
    "year: the year the meteorite fell, or the year it was found (linked with the \"fall\" column)<br>\n",
    "reclat: the latitude of the meteorite's landing<br>\n",
    "reclong: the longitude of the meteorite's landing<br>"
   ]
  },
  {
   "cell_type": "code",
   "execution_count": 8,
   "metadata": {},
   "outputs": [],
   "source": [
    "# Save the data into csv file\n",
    "\n",
    "results_df.to_csv('meteorite-landings.csv')"
   ]
  }
 ],
 "metadata": {
  "kernelspec": {
   "display_name": "Python 3",
   "language": "python",
   "name": "python3"
  },
  "language_info": {
   "codemirror_mode": {
    "name": "ipython",
    "version": 3
   },
   "file_extension": ".py",
   "mimetype": "text/x-python",
   "name": "python",
   "nbconvert_exporter": "python",
   "pygments_lexer": "ipython3",
   "version": "3.8.5"
  }
 },
 "nbformat": 4,
 "nbformat_minor": 4
}
